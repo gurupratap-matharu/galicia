{
 "cells": [
  {
   "cell_type": "code",
   "execution_count": 1,
   "metadata": {},
   "outputs": [],
   "source": [
    "import pandas as pd\n",
    "import numpy as np\n",
    "import matplotlib.pyplot as plt"
   ]
  },
  {
   "cell_type": "code",
   "execution_count": 5,
   "metadata": {},
   "outputs": [],
   "source": [
    "pageviews = pd.read_csv('pageviews/pageviews.csv')"
   ]
  },
  {
   "cell_type": "code",
   "execution_count": 9,
   "metadata": {},
   "outputs": [
    {
     "data": {
      "text/plain": [
       "Index(['FEC_EVENT', 'PAGE', 'CONTENT_CATEGORY', 'CONTENT_CATEGORY_TOP',\n",
       "       'CONTENT_CATEGORY_BOTTOM', 'SITE_ID', 'ON_SITE_SEARCH_TERM', 'USER_ID'],\n",
       "      dtype='object')"
      ]
     },
     "execution_count": 9,
     "metadata": {},
     "output_type": "execute_result"
    }
   ],
   "source": [
    "pageviews.columns"
   ]
  },
  {
   "cell_type": "code",
   "execution_count": 35,
   "metadata": {},
   "outputs": [
    {
     "name": "stdout",
     "output_type": "stream",
     "text": [
      "Min date is 2018-01-01 00:09:17 and max date is 2018-12-31 23:59:59\n"
     ]
    }
   ],
   "source": [
    "dates = pageviews['FEC_EVENT']\n",
    "print(\"Min date is {} and max date is {}\".format(dates.min(), dates.max()))"
   ]
  },
  {
   "cell_type": "code",
   "execution_count": 20,
   "metadata": {},
   "outputs": [
    {
     "data": {
      "text/html": [
       "<div>\n",
       "<style scoped>\n",
       "    .dataframe tbody tr th:only-of-type {\n",
       "        vertical-align: middle;\n",
       "    }\n",
       "\n",
       "    .dataframe tbody tr th {\n",
       "        vertical-align: top;\n",
       "    }\n",
       "\n",
       "    .dataframe thead th {\n",
       "        text-align: right;\n",
       "    }\n",
       "</style>\n",
       "<table border=\"1\" class=\"dataframe\">\n",
       "  <thead>\n",
       "    <tr style=\"text-align: right;\">\n",
       "      <th></th>\n",
       "      <th>PAGE</th>\n",
       "      <th>CONTENT_CATEGORY</th>\n",
       "      <th>CONTENT_CATEGORY_TOP</th>\n",
       "      <th>CONTENT_CATEGORY_BOTTOM</th>\n",
       "      <th>SITE_ID</th>\n",
       "      <th>ON_SITE_SEARCH_TERM</th>\n",
       "      <th>USER_ID</th>\n",
       "    </tr>\n",
       "  </thead>\n",
       "  <tbody>\n",
       "    <tr>\n",
       "      <th>count</th>\n",
       "      <td>1.793693e+07</td>\n",
       "      <td>1.793693e+07</td>\n",
       "      <td>1.793693e+07</td>\n",
       "      <td>1.793693e+07</td>\n",
       "      <td>1.793693e+07</td>\n",
       "      <td>1.793693e+07</td>\n",
       "      <td>1.793693e+07</td>\n",
       "    </tr>\n",
       "    <tr>\n",
       "      <th>mean</th>\n",
       "      <td>6.729278e+01</td>\n",
       "      <td>2.328020e+00</td>\n",
       "      <td>1.988468e+00</td>\n",
       "      <td>2.328020e+00</td>\n",
       "      <td>2.541544e+00</td>\n",
       "      <td>1.003588e+00</td>\n",
       "      <td>5.019533e+03</td>\n",
       "    </tr>\n",
       "    <tr>\n",
       "      <th>std</th>\n",
       "      <td>1.668111e+02</td>\n",
       "      <td>1.969341e+00</td>\n",
       "      <td>4.497693e-01</td>\n",
       "      <td>1.969341e+00</td>\n",
       "      <td>6.446994e-01</td>\n",
       "      <td>8.012887e-01</td>\n",
       "      <td>3.297808e+03</td>\n",
       "    </tr>\n",
       "    <tr>\n",
       "      <th>min</th>\n",
       "      <td>1.000000e+00</td>\n",
       "      <td>1.000000e+00</td>\n",
       "      <td>1.000000e+00</td>\n",
       "      <td>1.000000e+00</td>\n",
       "      <td>1.000000e+00</td>\n",
       "      <td>1.000000e+00</td>\n",
       "      <td>0.000000e+00</td>\n",
       "    </tr>\n",
       "    <tr>\n",
       "      <th>25%</th>\n",
       "      <td>3.000000e+00</td>\n",
       "      <td>2.000000e+00</td>\n",
       "      <td>2.000000e+00</td>\n",
       "      <td>2.000000e+00</td>\n",
       "      <td>2.000000e+00</td>\n",
       "      <td>1.000000e+00</td>\n",
       "      <td>2.094000e+03</td>\n",
       "    </tr>\n",
       "    <tr>\n",
       "      <th>50%</th>\n",
       "      <td>2.100000e+01</td>\n",
       "      <td>2.000000e+00</td>\n",
       "      <td>2.000000e+00</td>\n",
       "      <td>2.000000e+00</td>\n",
       "      <td>3.000000e+00</td>\n",
       "      <td>1.000000e+00</td>\n",
       "      <td>4.508000e+03</td>\n",
       "    </tr>\n",
       "    <tr>\n",
       "      <th>75%</th>\n",
       "      <td>5.900000e+01</td>\n",
       "      <td>2.000000e+00</td>\n",
       "      <td>2.000000e+00</td>\n",
       "      <td>2.000000e+00</td>\n",
       "      <td>3.000000e+00</td>\n",
       "      <td>1.000000e+00</td>\n",
       "      <td>7.900000e+03</td>\n",
       "    </tr>\n",
       "    <tr>\n",
       "      <th>max</th>\n",
       "      <td>1.835000e+03</td>\n",
       "      <td>6.800000e+01</td>\n",
       "      <td>1.300000e+01</td>\n",
       "      <td>6.800000e+01</td>\n",
       "      <td>4.000000e+00</td>\n",
       "      <td>2.950000e+02</td>\n",
       "      <td>1.167500e+04</td>\n",
       "    </tr>\n",
       "  </tbody>\n",
       "</table>\n",
       "</div>"
      ],
      "text/plain": [
       "               PAGE  CONTENT_CATEGORY  CONTENT_CATEGORY_TOP  \\\n",
       "count  1.793693e+07      1.793693e+07          1.793693e+07   \n",
       "mean   6.729278e+01      2.328020e+00          1.988468e+00   \n",
       "std    1.668111e+02      1.969341e+00          4.497693e-01   \n",
       "min    1.000000e+00      1.000000e+00          1.000000e+00   \n",
       "25%    3.000000e+00      2.000000e+00          2.000000e+00   \n",
       "50%    2.100000e+01      2.000000e+00          2.000000e+00   \n",
       "75%    5.900000e+01      2.000000e+00          2.000000e+00   \n",
       "max    1.835000e+03      6.800000e+01          1.300000e+01   \n",
       "\n",
       "       CONTENT_CATEGORY_BOTTOM       SITE_ID  ON_SITE_SEARCH_TERM  \\\n",
       "count             1.793693e+07  1.793693e+07         1.793693e+07   \n",
       "mean              2.328020e+00  2.541544e+00         1.003588e+00   \n",
       "std               1.969341e+00  6.446994e-01         8.012887e-01   \n",
       "min               1.000000e+00  1.000000e+00         1.000000e+00   \n",
       "25%               2.000000e+00  2.000000e+00         1.000000e+00   \n",
       "50%               2.000000e+00  3.000000e+00         1.000000e+00   \n",
       "75%               2.000000e+00  3.000000e+00         1.000000e+00   \n",
       "max               6.800000e+01  4.000000e+00         2.950000e+02   \n",
       "\n",
       "            USER_ID  \n",
       "count  1.793693e+07  \n",
       "mean   5.019533e+03  \n",
       "std    3.297808e+03  \n",
       "min    0.000000e+00  \n",
       "25%    2.094000e+03  \n",
       "50%    4.508000e+03  \n",
       "75%    7.900000e+03  \n",
       "max    1.167500e+04  "
      ]
     },
     "execution_count": 20,
     "metadata": {},
     "output_type": "execute_result"
    }
   ],
   "source": [
    "pageviews.describe()"
   ]
  },
  {
   "cell_type": "markdown",
   "metadata": {},
   "source": [
    "### Some observations\n",
    "\n",
    "* There are unique 11676 users\n",
    "* There are 1835 pages\n",
    "* There are 68 content category and 68 content category botton\n",
    "* There are 4 types of site_id\n",
    "* There are 13 content category top\n",
    "* In all 295 items are searched"
   ]
  },
  {
   "cell_type": "markdown",
   "metadata": {},
   "source": [
    "### Most interactive users"
   ]
  },
  {
   "cell_type": "code",
   "execution_count": 28,
   "metadata": {},
   "outputs": [
    {
     "data": {
      "text/plain": [
       "53      36025\n",
       "464     19760\n",
       "873     17706\n",
       "2290    14430\n",
       "1496    13600\n",
       "8507    13559\n",
       "238     12850\n",
       "3034    12698\n",
       "7873    12552\n",
       "9168    12486\n",
       "Name: USER_ID, dtype: int64"
      ]
     },
     "execution_count": 28,
     "metadata": {},
     "output_type": "execute_result"
    }
   ],
   "source": [
    "pageviews['USER_ID'].value_counts()[:10]"
   ]
  },
  {
   "cell_type": "markdown",
   "metadata": {},
   "source": [
    "### Check if there is any null value in the page views dataset"
   ]
  },
  {
   "cell_type": "code",
   "execution_count": 34,
   "metadata": {},
   "outputs": [
    {
     "data": {
      "text/plain": [
       "False"
      ]
     },
     "execution_count": 34,
     "metadata": {},
     "output_type": "execute_result"
    }
   ],
   "source": [
    "%timeit\n",
    "pageviews.isnull().values.any()"
   ]
  },
  {
   "cell_type": "code",
   "execution_count": 40,
   "metadata": {},
   "outputs": [
    {
     "data": {
      "text/html": [
       "<div>\n",
       "<style scoped>\n",
       "    .dataframe tbody tr th:only-of-type {\n",
       "        vertical-align: middle;\n",
       "    }\n",
       "\n",
       "    .dataframe tbody tr th {\n",
       "        vertical-align: top;\n",
       "    }\n",
       "\n",
       "    .dataframe thead th {\n",
       "        text-align: right;\n",
       "    }\n",
       "</style>\n",
       "<table border=\"1\" class=\"dataframe\">\n",
       "  <thead>\n",
       "    <tr style=\"text-align: right;\">\n",
       "      <th></th>\n",
       "      <th>FEC_EVENT</th>\n",
       "      <th>PAGE</th>\n",
       "      <th>CONTENT_CATEGORY</th>\n",
       "      <th>CONTENT_CATEGORY_TOP</th>\n",
       "      <th>CONTENT_CATEGORY_BOTTOM</th>\n",
       "      <th>SITE_ID</th>\n",
       "      <th>ON_SITE_SEARCH_TERM</th>\n",
       "      <th>USER_ID</th>\n",
       "    </tr>\n",
       "  </thead>\n",
       "  <tbody>\n",
       "    <tr>\n",
       "      <th>17936929</th>\n",
       "      <td>2018-10-31 16:18:06</td>\n",
       "      <td>3</td>\n",
       "      <td>2</td>\n",
       "      <td>2</td>\n",
       "      <td>2</td>\n",
       "      <td>3</td>\n",
       "      <td>1</td>\n",
       "      <td>4639</td>\n",
       "    </tr>\n",
       "    <tr>\n",
       "      <th>17936930</th>\n",
       "      <td>2018-10-31 16:18:35</td>\n",
       "      <td>23</td>\n",
       "      <td>2</td>\n",
       "      <td>2</td>\n",
       "      <td>2</td>\n",
       "      <td>3</td>\n",
       "      <td>1</td>\n",
       "      <td>4639</td>\n",
       "    </tr>\n",
       "    <tr>\n",
       "      <th>17936931</th>\n",
       "      <td>2018-10-31 16:23:38</td>\n",
       "      <td>5</td>\n",
       "      <td>2</td>\n",
       "      <td>2</td>\n",
       "      <td>2</td>\n",
       "      <td>2</td>\n",
       "      <td>1</td>\n",
       "      <td>4639</td>\n",
       "    </tr>\n",
       "    <tr>\n",
       "      <th>17936932</th>\n",
       "      <td>2018-10-16 10:53:29</td>\n",
       "      <td>1</td>\n",
       "      <td>1</td>\n",
       "      <td>1</td>\n",
       "      <td>1</td>\n",
       "      <td>1</td>\n",
       "      <td>1</td>\n",
       "      <td>4639</td>\n",
       "    </tr>\n",
       "    <tr>\n",
       "      <th>17936933</th>\n",
       "      <td>2018-10-16 10:54:09</td>\n",
       "      <td>2</td>\n",
       "      <td>2</td>\n",
       "      <td>2</td>\n",
       "      <td>2</td>\n",
       "      <td>2</td>\n",
       "      <td>1</td>\n",
       "      <td>4639</td>\n",
       "    </tr>\n",
       "  </tbody>\n",
       "</table>\n",
       "</div>"
      ],
      "text/plain": [
       "                    FEC_EVENT  PAGE  CONTENT_CATEGORY  CONTENT_CATEGORY_TOP  \\\n",
       "17936929  2018-10-31 16:18:06     3                 2                     2   \n",
       "17936930  2018-10-31 16:18:35    23                 2                     2   \n",
       "17936931  2018-10-31 16:23:38     5                 2                     2   \n",
       "17936932  2018-10-16 10:53:29     1                 1                     1   \n",
       "17936933  2018-10-16 10:54:09     2                 2                     2   \n",
       "\n",
       "          CONTENT_CATEGORY_BOTTOM  SITE_ID  ON_SITE_SEARCH_TERM  USER_ID  \n",
       "17936929                        2        3                    1     4639  \n",
       "17936930                        2        3                    1     4639  \n",
       "17936931                        2        2                    1     4639  \n",
       "17936932                        1        1                    1     4639  \n",
       "17936933                        2        2                    1     4639  "
      ]
     },
     "execution_count": 40,
     "metadata": {},
     "output_type": "execute_result"
    }
   ],
   "source": [
    "pageviews.tail()"
   ]
  },
  {
   "cell_type": "code",
   "execution_count": 43,
   "metadata": {},
   "outputs": [],
   "source": [
    "device_data = pd.read_csv('device_data/device_data.csv')"
   ]
  },
  {
   "cell_type": "code",
   "execution_count": 44,
   "metadata": {},
   "outputs": [
    {
     "data": {
      "text/html": [
       "<div>\n",
       "<style scoped>\n",
       "    .dataframe tbody tr th:only-of-type {\n",
       "        vertical-align: middle;\n",
       "    }\n",
       "\n",
       "    .dataframe tbody tr th {\n",
       "        vertical-align: top;\n",
       "    }\n",
       "\n",
       "    .dataframe thead th {\n",
       "        text-align: right;\n",
       "    }\n",
       "</style>\n",
       "<table border=\"1\" class=\"dataframe\">\n",
       "  <thead>\n",
       "    <tr style=\"text-align: right;\">\n",
       "      <th></th>\n",
       "      <th>FEC_EVENT</th>\n",
       "      <th>CONNECTION_SPEED</th>\n",
       "      <th>IS_MOBILE_DEVICE</th>\n",
       "      <th>USER_ID</th>\n",
       "    </tr>\n",
       "  </thead>\n",
       "  <tbody>\n",
       "    <tr>\n",
       "      <th>0</th>\n",
       "      <td>2018-11-22 10:15:38</td>\n",
       "      <td>1</td>\n",
       "      <td>1</td>\n",
       "      <td>0.0</td>\n",
       "    </tr>\n",
       "    <tr>\n",
       "      <th>1</th>\n",
       "      <td>2018-09-11 09:39:41</td>\n",
       "      <td>1</td>\n",
       "      <td>1</td>\n",
       "      <td>0.0</td>\n",
       "    </tr>\n",
       "    <tr>\n",
       "      <th>2</th>\n",
       "      <td>2018-11-29 16:29:03</td>\n",
       "      <td>3</td>\n",
       "      <td>1</td>\n",
       "      <td>0.0</td>\n",
       "    </tr>\n",
       "    <tr>\n",
       "      <th>3</th>\n",
       "      <td>2018-05-16 21:12:54</td>\n",
       "      <td>3</td>\n",
       "      <td>1</td>\n",
       "      <td>0.0</td>\n",
       "    </tr>\n",
       "    <tr>\n",
       "      <th>4</th>\n",
       "      <td>2018-10-12 19:28:23</td>\n",
       "      <td>3</td>\n",
       "      <td>1</td>\n",
       "      <td>0.0</td>\n",
       "    </tr>\n",
       "  </tbody>\n",
       "</table>\n",
       "</div>"
      ],
      "text/plain": [
       "             FEC_EVENT  CONNECTION_SPEED  IS_MOBILE_DEVICE  USER_ID\n",
       "0  2018-11-22 10:15:38                 1                 1      0.0\n",
       "1  2018-09-11 09:39:41                 1                 1      0.0\n",
       "2  2018-11-29 16:29:03                 3                 1      0.0\n",
       "3  2018-05-16 21:12:54                 3                 1      0.0\n",
       "4  2018-10-12 19:28:23                 3                 1      0.0"
      ]
     },
     "execution_count": 44,
     "metadata": {},
     "output_type": "execute_result"
    }
   ],
   "source": [
    "device_data.head()"
   ]
  },
  {
   "cell_type": "code",
   "execution_count": 45,
   "metadata": {},
   "outputs": [
    {
     "name": "stdout",
     "output_type": "stream",
     "text": [
      "<class 'pandas.core.frame.DataFrame'>\n",
      "RangeIndex: 2871406 entries, 0 to 2871405\n",
      "Data columns (total 4 columns):\n",
      "FEC_EVENT           object\n",
      "CONNECTION_SPEED    int64\n",
      "IS_MOBILE_DEVICE    int64\n",
      "USER_ID             float64\n",
      "dtypes: float64(1), int64(2), object(1)\n",
      "memory usage: 87.6+ MB\n"
     ]
    }
   ],
   "source": [
    "device_data.info()"
   ]
  },
  {
   "cell_type": "markdown",
   "metadata": {},
   "source": [
    "### How many users are having interactions in device data?"
   ]
  },
  {
   "cell_type": "code",
   "execution_count": 47,
   "metadata": {},
   "outputs": [
    {
     "data": {
      "text/plain": [
       "11676"
      ]
     },
     "execution_count": 47,
     "metadata": {},
     "output_type": "execute_result"
    }
   ],
   "source": [
    "len(device_data['USER_ID'].unique())"
   ]
  },
  {
   "cell_type": "markdown",
   "metadata": {},
   "source": [
    "### Are there nulls in device data?"
   ]
  },
  {
   "cell_type": "code",
   "execution_count": 48,
   "metadata": {},
   "outputs": [
    {
     "data": {
      "text/plain": [
       "False"
      ]
     },
     "execution_count": 48,
     "metadata": {},
     "output_type": "execute_result"
    }
   ],
   "source": [
    "device_data.isnull().values.any()"
   ]
  },
  {
   "cell_type": "code",
   "execution_count": 49,
   "metadata": {},
   "outputs": [
    {
     "data": {
      "text/html": [
       "<div>\n",
       "<style scoped>\n",
       "    .dataframe tbody tr th:only-of-type {\n",
       "        vertical-align: middle;\n",
       "    }\n",
       "\n",
       "    .dataframe tbody tr th {\n",
       "        vertical-align: top;\n",
       "    }\n",
       "\n",
       "    .dataframe thead th {\n",
       "        text-align: right;\n",
       "    }\n",
       "</style>\n",
       "<table border=\"1\" class=\"dataframe\">\n",
       "  <thead>\n",
       "    <tr style=\"text-align: right;\">\n",
       "      <th></th>\n",
       "      <th>CONNECTION_SPEED</th>\n",
       "      <th>IS_MOBILE_DEVICE</th>\n",
       "      <th>USER_ID</th>\n",
       "    </tr>\n",
       "  </thead>\n",
       "  <tbody>\n",
       "    <tr>\n",
       "      <th>count</th>\n",
       "      <td>2.871406e+06</td>\n",
       "      <td>2.871406e+06</td>\n",
       "      <td>2.871406e+06</td>\n",
       "    </tr>\n",
       "    <tr>\n",
       "      <th>mean</th>\n",
       "      <td>1.567110e+00</td>\n",
       "      <td>7.496916e-01</td>\n",
       "      <td>5.639217e+03</td>\n",
       "    </tr>\n",
       "    <tr>\n",
       "      <th>std</th>\n",
       "      <td>1.106602e+00</td>\n",
       "      <td>4.331907e-01</td>\n",
       "      <td>3.268393e+03</td>\n",
       "    </tr>\n",
       "    <tr>\n",
       "      <th>min</th>\n",
       "      <td>0.000000e+00</td>\n",
       "      <td>0.000000e+00</td>\n",
       "      <td>0.000000e+00</td>\n",
       "    </tr>\n",
       "    <tr>\n",
       "      <th>25%</th>\n",
       "      <td>1.000000e+00</td>\n",
       "      <td>0.000000e+00</td>\n",
       "      <td>2.729000e+03</td>\n",
       "    </tr>\n",
       "    <tr>\n",
       "      <th>50%</th>\n",
       "      <td>1.000000e+00</td>\n",
       "      <td>1.000000e+00</td>\n",
       "      <td>5.890000e+03</td>\n",
       "    </tr>\n",
       "    <tr>\n",
       "      <th>75%</th>\n",
       "      <td>3.000000e+00</td>\n",
       "      <td>1.000000e+00</td>\n",
       "      <td>8.456000e+03</td>\n",
       "    </tr>\n",
       "    <tr>\n",
       "      <th>max</th>\n",
       "      <td>3.000000e+00</td>\n",
       "      <td>1.000000e+00</td>\n",
       "      <td>1.167500e+04</td>\n",
       "    </tr>\n",
       "  </tbody>\n",
       "</table>\n",
       "</div>"
      ],
      "text/plain": [
       "       CONNECTION_SPEED  IS_MOBILE_DEVICE       USER_ID\n",
       "count      2.871406e+06      2.871406e+06  2.871406e+06\n",
       "mean       1.567110e+00      7.496916e-01  5.639217e+03\n",
       "std        1.106602e+00      4.331907e-01  3.268393e+03\n",
       "min        0.000000e+00      0.000000e+00  0.000000e+00\n",
       "25%        1.000000e+00      0.000000e+00  2.729000e+03\n",
       "50%        1.000000e+00      1.000000e+00  5.890000e+03\n",
       "75%        3.000000e+00      1.000000e+00  8.456000e+03\n",
       "max        3.000000e+00      1.000000e+00  1.167500e+04"
      ]
     },
     "execution_count": 49,
     "metadata": {},
     "output_type": "execute_result"
    }
   ],
   "source": [
    "device_data.describe()"
   ]
  },
  {
   "cell_type": "markdown",
   "metadata": {},
   "source": [
    "### Observations\n",
    "\n",
    "* connection speed varies from 0 to 3 ( worse to best )\n",
    "* Is mobile is a boolean flag as expected\n",
    "* All 11676 users in this dataset"
   ]
  },
  {
   "cell_type": "code",
   "execution_count": 50,
   "metadata": {},
   "outputs": [
    {
     "data": {
      "text/plain": [
       "1    2152669\n",
       "0     718737\n",
       "Name: IS_MOBILE_DEVICE, dtype: int64"
      ]
     },
     "execution_count": 50,
     "metadata": {},
     "output_type": "execute_result"
    }
   ],
   "source": [
    "device_data['IS_MOBILE_DEVICE'].value_counts()"
   ]
  },
  {
   "cell_type": "code",
   "execution_count": 51,
   "metadata": {},
   "outputs": [
    {
     "data": {
      "text/plain": [
       "2871406"
      ]
     },
     "execution_count": 51,
     "metadata": {},
     "output_type": "execute_result"
    }
   ],
   "source": [
    "len(device_data)"
   ]
  },
  {
   "cell_type": "code",
   "execution_count": 59,
   "metadata": {},
   "outputs": [
    {
     "name": "stdout",
     "output_type": "stream",
     "text": [
      "\n",
      "There are 2871406 records in the device data\n",
      "74.97 % use Mobile and remaining\n",
      "25.03 % do not use it. May be they use a PC\n"
     ]
    }
   ],
   "source": [
    "print(\"\"\"\n",
    "There are {} records in the device data\n",
    "{:.2f} % use Mobile and remaining\n",
    "{:.2f} % do not use it. May be they use a PC\"\"\".format(len(device_data), \n",
    "                                                   100 * 2152669/len(device_data),\n",
    "                                                   100 * 718737/len(device_data)))"
   ]
  },
  {
   "cell_type": "markdown",
   "metadata": {},
   "source": [
    "* We need to join this device_data with our pageviews dataset to get a master train dataset\n",
    "* Device data has 2.8 million records whereas\n",
    "* pageviews has a whopping of 17.9 million records\n",
    "* On what column should we join to not lose data?\n",
    "\n",
    "* I think we can't do it on user_id why? because its not a fundamental unique thing here. The key of device data lies in \n",
    "* the event when it was registered which is date! May be I am wrong but I would like to merge on date\n",
    "* We can do a left join (left being page views) this way for dates where don't have device data we 'll get nulls\n"
   ]
  },
  {
   "cell_type": "code",
   "execution_count": 62,
   "metadata": {},
   "outputs": [],
   "source": [
    "device_data_dates = device_data['FEC_EVENT']\n",
    "pageviews_dates = pageviews['FEC_EVENT']"
   ]
  },
  {
   "cell_type": "code",
   "execution_count": 75,
   "metadata": {},
   "outputs": [
    {
     "name": "stdout",
     "output_type": "stream",
     "text": [
      "\n",
      "device data has in total 2871406 dates but only 2592597 are unique!\n",
      "pageviews has in total 17936934 dates but only 10496454 are unique\n"
     ]
    }
   ],
   "source": [
    "print(\"\"\"\n",
    "device data has in total {} dates but only {} are unique!\n",
    "pageviews has in total {} dates but only {} are unique\"\"\".format(len(device_data_dates), len(device_data_dates.unique()),\n",
    "                                                                 len(pageviews_dates), len(pageviews_dates.unique())))"
   ]
  },
  {
   "cell_type": "markdown",
   "metadata": {},
   "source": [
    "It would be interesting to checkout what's happening at these duplicate date time instances !\n",
    "\n",
    "\n"
   ]
  },
  {
   "cell_type": "code",
   "execution_count": null,
   "metadata": {},
   "outputs": [],
   "source": []
  }
 ],
 "metadata": {
  "kernelspec": {
   "display_name": "Python 3",
   "language": "python",
   "name": "python3"
  },
  "language_info": {
   "codemirror_mode": {
    "name": "ipython",
    "version": 3
   },
   "file_extension": ".py",
   "mimetype": "text/x-python",
   "name": "python",
   "nbconvert_exporter": "python",
   "pygments_lexer": "ipython3",
   "version": "3.7.3"
  }
 },
 "nbformat": 4,
 "nbformat_minor": 2
}
